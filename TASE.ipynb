{
 "cells": [
  {
   "cell_type": "markdown",
   "metadata": {},
   "source": [
    "# Tel Aviv Stock Exchange\n",
    "* Scrape historical data"
   ]
  },
  {
   "cell_type": "code",
   "metadata": {
    "ExecuteTime": {
     "end_time": "2024-09-14T12:39:50.021987Z",
     "start_time": "2024-09-14T12:39:49.230546Z"
    }
   },
   "source": [
    "import pandas as pd\n",
    "import time\n",
    "import os\n",
    "from pathlib import Path\n",
    "\n",
    "from selenium import webdriver\n",
    "from selenium.webdriver.support.wait import WebDriverWait\n",
    "from selenium.webdriver.support import expected_conditions as EC\n",
    "from selenium.webdriver.common.by import By\n",
    "\n",
    "%matplotlib inline\n",
    "import matplotlib.pyplot as plt"
   ],
   "outputs": [],
   "execution_count": 1
  },
  {
   "cell_type": "code",
   "metadata": {
    "ExecuteTime": {
     "end_time": "2024-09-14T12:39:50.661839Z",
     "start_time": "2024-09-14T12:39:50.656835Z"
    }
   },
   "source": [
    "#params\n",
    "data_dir = Path.cwd() / 'data'\n",
    "data_dir.mkdir(exist_ok=True)\n",
    "file_history = data_dir / 'securityHistoryInDayData.csv'"
   ],
   "outputs": [],
   "execution_count": 2
  },
  {
   "cell_type": "code",
   "metadata": {
    "ExecuteTime": {
     "end_time": "2024-09-14T12:39:51.587261Z",
     "start_time": "2024-09-14T12:39:51.581259Z"
    }
   },
   "source": [
    "def clean_history():\n",
    "    '''\n",
    "    removes tmp downloaded file\n",
    "    '''\n",
    "    \n",
    "    if os.path.exists(file_history):\n",
    "        os.remove(file_history)    "
   ],
   "outputs": [],
   "execution_count": 3
  },
  {
   "cell_type": "markdown",
   "metadata": {},
   "source": [
    "# Static\n",
    "* Defined dict of symbols"
   ]
  },
  {
   "cell_type": "code",
   "metadata": {
    "ExecuteTime": {
     "end_time": "2024-09-14T12:39:53.474447Z",
     "start_time": "2024-09-14T12:39:53.453627Z"
    }
   },
   "source": [
    "#symbol to tick\n",
    "symbols = {\n",
    "    #TA-35\n",
    "    'HRL.TA-35' : 1, #Harel Sal (4A) TA 35\n",
    "    'KSM.TA-35' : 10, #KSM ETF (4A) TA-35\n",
    "    'MTF.TA-35' : 1, #MTF SAL (4A) TA-35\n",
    "    'PSG.TA-35' : 1, #Psagot ETF (4A) TA-35\n",
    "    'TC.TA35' : 1, #Tachlit SAL (40) TA 35\n",
    "    \n",
    "    #TA-125\n",
    "    'TC.TA125' : 1, #Tachlit SAL (40) TA 125\n",
    "    'KSM.TA-125' : 10, #KSM ETF (4A) TA-125\n",
    "    'PSG.TA-125' : 1, #Psagot ETF (4A) TA-125\n",
    "    'HRL.TA-125' : 1, #Harel Sal (4A) TA 125M\n",
    "    'MTF.TA-125' : 1, #MTF SAL (4A) TA-125\n",
    "    \n",
    "    #stocks\n",
    "    'TEVA' : 1,\n",
    "    'NICE' : 10,\n",
    "    'ICL' : 1,\n",
    "    'ESLT' : 10,\n",
    "    'PRGO' : 10\n",
    "}\n",
    "\n",
    "#symbol to url\n",
    "urls = {\n",
    "    #TA-35    \n",
    "    'HRL.TA-35' : 'https://www.tase.co.il/en/market_data/etf/1148907/historical_data/inday',\n",
    "    'KSM.TA-35' : 'https://www.tase.co.il/en/market_data/etf/1146570/historical_data/inday',\n",
    "    'MTF.TA-35' : 'https://www.tase.co.il/en/market_data/etf/1150184/historical_data/inday',\n",
    "    'PSG.TA-35' : 'https://www.tase.co.il/en/market_data/etf/1148790/historical_data/inday',\n",
    "    'TC.TA35' : 'https://www.tase.co.il/en/market_data/etf/1143700/historical_data/inday',\n",
    "    \n",
    "    #TA-125\n",
    "    'TC.TA125' : 'https://www.tase.co.il/en/market_data/etf/1143718/historical_data/inday',\n",
    "    'KSM.TA-125' : 'https://www.tase.co.il/en/market_data/etf/1146356/historical_data/inday',\n",
    "    'PSG.TA-125' : 'https://www.tase.co.il/en/market_data/etf/1148808/historical_data/inday',\n",
    "    'HRL.TA-125' : 'https://www.tase.co.il/en/market_data/etf/1148899/historical_data/inday',\n",
    "    'MTF.TA-125' : 'https://www.tase.co.il/en/market_data/etf/1150283/historical_data/inday',\n",
    "    \n",
    "    #stocks\n",
    "    'TEVA' : 'https://www.tase.co.il/en/market_data/security/00629014/historical_data/inday',\n",
    "    'NICE' : 'https://www.tase.co.il/en/market_data/security/00273011/historical_data/inday',\n",
    "    'ICL' : 'https://www.tase.co.il/en/market_data/security/00281014/historical_data/inday',\n",
    "    'ESLT' : 'https://www.tase.co.il/en/market_data/security/01081124/historical_data/inday',\n",
    "    'PRGO' : 'https://www.tase.co.il/en/market_data/security/01130699/historical_data/inday'\n",
    "}"
   ],
   "outputs": [],
   "execution_count": 4
  },
  {
   "metadata": {
    "ExecuteTime": {
     "end_time": "2024-09-14T12:39:58.362651Z",
     "start_time": "2024-09-14T12:39:54.879891Z"
    }
   },
   "cell_type": "code",
   "source": [
    "#init\n",
    "options = webdriver.ChromeOptions()\n",
    "prefs = {\"download.default_directory\": str(data_dir)}\n",
    "options.add_experimental_option(\"prefs\", prefs)\n",
    "driver = webdriver.Chrome(options=options)\n",
    "driver.maximize_window()\n",
    "wait = WebDriverWait(driver, 10)\n",
    "\n",
    "url = 'https://www.tase.co.il/en'\n",
    "driver.get(url)\n",
    "print('Please log in...')"
   ],
   "outputs": [
    {
     "name": "stdout",
     "output_type": "stream",
     "text": [
      "Please log in...\n"
     ]
    }
   ],
   "execution_count": 5
  },
  {
   "cell_type": "code",
   "metadata": {
    "ExecuteTime": {
     "end_time": "2024-09-14T12:42:57.875120Z",
     "start_time": "2024-09-14T12:40:10.235859Z"
    }
   },
   "source": [
    "#run flow\n",
    "for symbol, tick in symbols.items():\n",
    "    if not (data_dir / f'{symbol}.csv').exists():\n",
    "        retry = 3\n",
    "        done = False\n",
    "        \n",
    "        while(not done and retry > 0):\n",
    "            try:\n",
    "                retry -= 1\n",
    "                url = urls[symbol]\n",
    "                print(symbol, tick, url)\n",
    "    \n",
    "                #clean\n",
    "                clean_history()\n",
    "    \n",
    "                #request\n",
    "                driver.get(url)\n",
    "                time.sleep(5)\n",
    "    \n",
    "                #Download data\n",
    "                wait.until(EC.presence_of_element_located((By.CLASS_NAME, 'icon-download'))).click()\n",
    "    \n",
    "                #CSV\n",
    "                wait.until(EC.presence_of_element_located((By.LINK_TEXT, 'CSV'))).click()\n",
    "                time.sleep(5)\n",
    "    \n",
    "                #clone\n",
    "                file_history.rename(data_dir / f'{symbol}.csv')            \n",
    "                \n",
    "                #done\n",
    "                done = True\n",
    "            except Exception as e:\n",
    "                print(symbol, 'retry', retry, e)\n",
    "        \n",
    "#clean\n",
    "clean_history()"
   ],
   "outputs": [
    {
     "name": "stdout",
     "output_type": "stream",
     "text": [
      "HRL.TA-35 1 https://www.tase.co.il/en/market_data/etf/1148907/historical_data/inday\n",
      "KSM.TA-35 10 https://www.tase.co.il/en/market_data/etf/1146570/historical_data/inday\n",
      "MTF.TA-35 1 https://www.tase.co.il/en/market_data/etf/1150184/historical_data/inday\n",
      "PSG.TA-35 1 https://www.tase.co.il/en/market_data/etf/1148790/historical_data/inday\n",
      "TC.TA35 1 https://www.tase.co.il/en/market_data/etf/1143700/historical_data/inday\n",
      "TC.TA125 1 https://www.tase.co.il/en/market_data/etf/1143718/historical_data/inday\n",
      "KSM.TA-125 10 https://www.tase.co.il/en/market_data/etf/1146356/historical_data/inday\n",
      "PSG.TA-125 1 https://www.tase.co.il/en/market_data/etf/1148808/historical_data/inday\n",
      "HRL.TA-125 1 https://www.tase.co.il/en/market_data/etf/1148899/historical_data/inday\n",
      "MTF.TA-125 1 https://www.tase.co.il/en/market_data/etf/1150283/historical_data/inday\n",
      "TEVA 1 https://www.tase.co.il/en/market_data/security/00629014/historical_data/inday\n",
      "NICE 10 https://www.tase.co.il/en/market_data/security/00273011/historical_data/inday\n",
      "ICL 1 https://www.tase.co.il/en/market_data/security/00281014/historical_data/inday\n",
      "ESLT 10 https://www.tase.co.il/en/market_data/security/01081124/historical_data/inday\n",
      "PRGO 10 https://www.tase.co.il/en/market_data/security/01130699/historical_data/inday\n"
     ]
    }
   ],
   "execution_count": 6
  },
  {
   "cell_type": "markdown",
   "metadata": {},
   "source": [
    "# Dynamic\n",
    "* Top-k by turnover"
   ]
  },
  {
   "cell_type": "markdown",
   "metadata": {},
   "source": [
    "## Stocks"
   ]
  },
  {
   "cell_type": "code",
   "metadata": {
    "ExecuteTime": {
     "end_time": "2024-09-14T12:43:31.425427Z",
     "start_time": "2024-09-14T12:43:19.758404Z"
    }
   },
   "source": [
    "k = 5\n",
    "\n",
    "#load\n",
    "url = 'https://info.tase.co.il/eng/marketdata/stocks/marketdata/Pages/MarketData.aspx'\n",
    "driver.get(url)\n",
    "time.sleep(5)\n",
    "\n",
    "#sort\n",
    "wait.until(EC.presence_of_element_located((By.ID, 'OverallTurnOverValue DESC'))).click()\n",
    "time.sleep(5)\n",
    "\n",
    "#top-k\n",
    "elements = wait.until(EC.presence_of_all_elements_located((By.XPATH, '//td[@class=\"DataGridItemReg\"]//a[@class=\"linkInGrid\"]')))[:k]"
   ],
   "outputs": [],
   "execution_count": 7
  },
  {
   "cell_type": "code",
   "metadata": {
    "ExecuteTime": {
     "end_time": "2024-09-14T12:43:31.534290Z",
     "start_time": "2024-09-14T12:43:31.432390Z"
    }
   },
   "source": [
    "#collect raw data\n",
    "data = []\n",
    "for e in elements:\n",
    "    symbol = e.text\n",
    "    href = e.get_attribute('href')\n",
    "    data_href = 'https://www.tase.co.il/en/market_data/security/' + href.split('/')[-1] + '/historical_data/inday'\n",
    "    print(symbol, data_href)\n",
    "    data.append([symbol, href, data_href])"
   ],
   "outputs": [
    {
     "name": "stdout",
     "output_type": "stream",
     "text": [
      "LEUMI https://www.tase.co.il/en/market_data/security/00604611/historical_data/inday\n",
      "POALIM https://www.tase.co.il/en/market_data/security/00662577/historical_data/inday\n",
      "MIZRAHI TEFAHOT https://www.tase.co.il/en/market_data/security/00695437/historical_data/inday\n",
      "DISCOUNT https://www.tase.co.il/en/market_data/security/00691212/historical_data/inday\n",
      "TEVA https://www.tase.co.il/en/market_data/security/00629014/historical_data/inday\n"
     ]
    }
   ],
   "execution_count": 8
  },
  {
   "cell_type": "markdown",
   "metadata": {},
   "source": [
    "## ETF"
   ]
  },
  {
   "cell_type": "code",
   "metadata": {
    "ExecuteTime": {
     "end_time": "2024-09-14T12:43:43.418201Z",
     "start_time": "2024-09-14T12:43:31.645937Z"
    }
   },
   "source": [
    "#load\n",
    "url = 'https://www.tase.co.il/en/market_data/etfs'\n",
    "driver.get(url)\n",
    "time.sleep(5)\n",
    "\n",
    "#sort\n",
    "wait.until(EC.presence_of_element_located((By.XPATH, '//button[@aria-label=\"Sort descending by Turnover (NIS thousands) \"]'))).click()\n",
    "time.sleep(5)\n",
    "\n",
    "#top-k\n",
    "elements = wait.until(EC.presence_of_all_elements_located((By.CLASS_NAME, 'item-name')))[:k]"
   ],
   "outputs": [],
   "execution_count": 9
  },
  {
   "cell_type": "code",
   "metadata": {
    "ExecuteTime": {
     "end_time": "2024-09-14T12:43:43.527294Z",
     "start_time": "2024-09-14T12:43:43.436091Z"
    }
   },
   "source": [
    "#collect raw data\n",
    "for e in elements:\n",
    "    symbol = e.text\n",
    "    href = e.get_attribute('href')\n",
    "    data_href = 'https://www.tase.co.il/en/market_data/security/' + href.split('/')[-1] + '/historical_data/inday'\n",
    "    print(symbol, data_href)\n",
    "    data.append([symbol, href, data_href])"
   ],
   "outputs": [
    {
     "name": "stdout",
     "output_type": "stream",
     "text": [
      "MTF SAL (4D) S&P 500 https://www.tase.co.il/en/market_data/security/1150333/historical_data/inday\n",
      "Tachlit SAL (4D) NIKKEI 225 https://www.tase.co.il/en/market_data/security/1144419/historical_data/inday\n",
      "Tachlit SAL (4D) Index World Value U.S.D Hedged https://www.tase.co.il/en/market_data/security/1189596/historical_data/inday\n",
      "KSM ETF (6D) Leveraged NASDAQ 100 x3 Monthly https://www.tase.co.il/en/market_data/security/1146976/historical_data/inday\n",
      "KSM ETF (4A) TA-Insurance IL https://www.tase.co.il/en/market_data/security/1146125/historical_data/inday\n"
     ]
    }
   ],
   "execution_count": 10
  },
  {
   "cell_type": "markdown",
   "metadata": {},
   "source": [
    "## Run Flow"
   ]
  },
  {
   "cell_type": "code",
   "metadata": {
    "ExecuteTime": {
     "end_time": "2024-09-14T12:45:27.538103Z",
     "start_time": "2024-09-14T12:43:43.544296Z"
    }
   },
   "source": [
    "#run flow\n",
    "for d in data:\n",
    "    symbol = d[0]\n",
    "    if not (data_dir / f'{symbol}.csv').exists():\n",
    "        retry = 3\n",
    "        done = False\n",
    "        \n",
    "        while(not done and retry > 0):\n",
    "            try:    \n",
    "                retry -= 1\n",
    "                \n",
    "                href = d[1]\n",
    "                data_href = d[2]\n",
    "                print(symbol, data_href)\n",
    "    \n",
    "                #clean\n",
    "                clean_history()\n",
    "    \n",
    "                #go to data\n",
    "                driver.get(data_href)\n",
    "                time.sleep(5)\n",
    "    \n",
    "                #Download data\n",
    "                wait.until(EC.presence_of_element_located((By.CLASS_NAME, 'icon-download'))).click()\n",
    "                \n",
    "                #CSV\n",
    "                wait.until(EC.presence_of_element_located((By.LINK_TEXT, 'CSV'))).click()\n",
    "                time.sleep(5)\n",
    "    \n",
    "                #clone\n",
    "                # shutil.copyfile(file_history, data_dir + symbol + '.csv')\n",
    "                file_history.rename(data_dir / f'{symbol}.csv')\n",
    "                #done\n",
    "                done = True            \n",
    "            except Exception as e:\n",
    "                print(symbol, 'retry', retry, e)            \n",
    "            \n",
    "#clean\n",
    "clean_history()\n",
    "\n",
    "#terminate\n",
    "driver.quit()"
   ],
   "outputs": [
    {
     "name": "stdout",
     "output_type": "stream",
     "text": [
      "LEUMI https://www.tase.co.il/en/market_data/security/00604611/historical_data/inday\n",
      "POALIM https://www.tase.co.il/en/market_data/security/00662577/historical_data/inday\n",
      "MIZRAHI TEFAHOT https://www.tase.co.il/en/market_data/security/00695437/historical_data/inday\n",
      "DISCOUNT https://www.tase.co.il/en/market_data/security/00691212/historical_data/inday\n",
      "MTF SAL (4D) S&P 500 https://www.tase.co.il/en/market_data/security/1150333/historical_data/inday\n",
      "Tachlit SAL (4D) NIKKEI 225 https://www.tase.co.il/en/market_data/security/1144419/historical_data/inday\n",
      "Tachlit SAL (4D) Index World Value U.S.D Hedged https://www.tase.co.il/en/market_data/security/1189596/historical_data/inday\n",
      "KSM ETF (6D) Leveraged NASDAQ 100 x3 Monthly https://www.tase.co.il/en/market_data/security/1146976/historical_data/inday\n",
      "KSM ETF (4A) TA-Insurance IL https://www.tase.co.il/en/market_data/security/1146125/historical_data/inday\n"
     ]
    }
   ],
   "execution_count": 11
  },
  {
   "cell_type": "markdown",
   "metadata": {},
   "source": [
    "# Zoom In"
   ]
  },
  {
   "cell_type": "code",
   "metadata": {
    "ExecuteTime": {
     "end_time": "2024-09-14T12:45:27.569058Z",
     "start_time": "2024-09-14T12:45:27.556063Z"
    }
   },
   "source": [
    "def load_data(symbol):\n",
    "    df = pd.read_csv(data_dir / f'{symbol}.csv', skiprows=2).dropna()\n",
    "    df['Time'] = pd.to_datetime(df['Time'])\n",
    "    df = df.sort_values(by='Time').reset_index().drop(['index'], axis=1)\n",
    "    return df"
   ],
   "outputs": [],
   "execution_count": 12
  },
  {
   "cell_type": "code",
   "metadata": {
    "ExecuteTime": {
     "end_time": "2024-09-14T12:45:27.632060Z",
     "start_time": "2024-09-14T12:45:27.587058Z"
    }
   },
   "source": [
    "df = load_data('TEVA')\n",
    "df.head()"
   ],
   "outputs": [
    {
     "name": "stderr",
     "output_type": "stream",
     "text": [
      "C:\\Users\\marcb\\AppData\\Local\\Temp\\ipykernel_23252\\1905010339.py:3: UserWarning: Could not infer format, so each element will be parsed individually, falling back to `dateutil`. To ensure parsing is consistent and as-expected, please specify a format.\n",
      "  df['Time'] = pd.to_datetime(df['Time'])\n"
     ]
    },
    {
     "data": {
      "text/plain": [
       "                 Time  Last Rate  Change (%)   Volume  Turnover(NIS)  \\\n",
       "0 2024-09-14 09:59:00     6720.0        2.14  73851.0     4962787.20   \n",
       "1 2024-09-14 09:59:00     6733.0        2.34     15.0        1009.95   \n",
       "2 2024-09-14 09:59:00     6731.0        2.31    502.0       33789.62   \n",
       "3 2024-09-14 09:59:00     6734.0        2.36     69.0        4646.46   \n",
       "4 2024-09-14 10:00:00     6732.0        2.33    309.0       20801.88   \n",
       "\n",
       "   Cumulative Turnover (NIS)  \n",
       "0                  4962787.0  \n",
       "1                  5002233.0  \n",
       "2                  4996577.0  \n",
       "3                  5001223.0  \n",
       "4                  5023035.0  "
      ],
      "text/html": [
       "<div>\n",
       "<style scoped>\n",
       "    .dataframe tbody tr th:only-of-type {\n",
       "        vertical-align: middle;\n",
       "    }\n",
       "\n",
       "    .dataframe tbody tr th {\n",
       "        vertical-align: top;\n",
       "    }\n",
       "\n",
       "    .dataframe thead th {\n",
       "        text-align: right;\n",
       "    }\n",
       "</style>\n",
       "<table border=\"1\" class=\"dataframe\">\n",
       "  <thead>\n",
       "    <tr style=\"text-align: right;\">\n",
       "      <th></th>\n",
       "      <th>Time</th>\n",
       "      <th>Last Rate</th>\n",
       "      <th>Change (%)</th>\n",
       "      <th>Volume</th>\n",
       "      <th>Turnover(NIS)</th>\n",
       "      <th>Cumulative Turnover (NIS)</th>\n",
       "    </tr>\n",
       "  </thead>\n",
       "  <tbody>\n",
       "    <tr>\n",
       "      <th>0</th>\n",
       "      <td>2024-09-14 09:59:00</td>\n",
       "      <td>6720.0</td>\n",
       "      <td>2.14</td>\n",
       "      <td>73851.0</td>\n",
       "      <td>4962787.20</td>\n",
       "      <td>4962787.0</td>\n",
       "    </tr>\n",
       "    <tr>\n",
       "      <th>1</th>\n",
       "      <td>2024-09-14 09:59:00</td>\n",
       "      <td>6733.0</td>\n",
       "      <td>2.34</td>\n",
       "      <td>15.0</td>\n",
       "      <td>1009.95</td>\n",
       "      <td>5002233.0</td>\n",
       "    </tr>\n",
       "    <tr>\n",
       "      <th>2</th>\n",
       "      <td>2024-09-14 09:59:00</td>\n",
       "      <td>6731.0</td>\n",
       "      <td>2.31</td>\n",
       "      <td>502.0</td>\n",
       "      <td>33789.62</td>\n",
       "      <td>4996577.0</td>\n",
       "    </tr>\n",
       "    <tr>\n",
       "      <th>3</th>\n",
       "      <td>2024-09-14 09:59:00</td>\n",
       "      <td>6734.0</td>\n",
       "      <td>2.36</td>\n",
       "      <td>69.0</td>\n",
       "      <td>4646.46</td>\n",
       "      <td>5001223.0</td>\n",
       "    </tr>\n",
       "    <tr>\n",
       "      <th>4</th>\n",
       "      <td>2024-09-14 10:00:00</td>\n",
       "      <td>6732.0</td>\n",
       "      <td>2.33</td>\n",
       "      <td>309.0</td>\n",
       "      <td>20801.88</td>\n",
       "      <td>5023035.0</td>\n",
       "    </tr>\n",
       "  </tbody>\n",
       "</table>\n",
       "</div>"
      ]
     },
     "execution_count": 13,
     "metadata": {},
     "output_type": "execute_result"
    }
   ],
   "execution_count": 13
  },
  {
   "cell_type": "code",
   "metadata": {
    "ExecuteTime": {
     "end_time": "2024-09-14T12:45:27.897838Z",
     "start_time": "2024-09-14T12:45:27.694768Z"
    }
   },
   "source": [
    "df.groupby('Time').mean()['Last Rate'].plot(title='TEVA')"
   ],
   "outputs": [
    {
     "data": {
      "text/plain": [
       "<Axes: title={'center': 'TEVA'}, xlabel='Time'>"
      ]
     },
     "execution_count": 14,
     "metadata": {},
     "output_type": "execute_result"
    },
    {
     "data": {
      "text/plain": [
       "<Figure size 640x480 with 1 Axes>"
      ],
      "image/png": "[encoded data removed]"
     },
     "metadata": {},
     "output_type": "display_data"
    }
   ],
   "execution_count": 14
  }
 ],
 "metadata": {
  "kernelspec": {
   "display_name": "Python 3",
   "language": "python",
   "name": "python3"
  },
  "language_info": {
   "codemirror_mode": {
    "name": "ipython",
    "version": 3
   },
   "file_extension": ".py",
   "mimetype": "text/x-python",
   "name": "python",
   "nbconvert_exporter": "python",
   "pygments_lexer": "ipython3",
   "version": "3.7.4"
  }
 },
 "nbformat": 4,
 "nbformat_minor": 2
}
